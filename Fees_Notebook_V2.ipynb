{
 "cells": [
  {
   "cell_type": "markdown",
   "id": "815615e6",
   "metadata": {},
   "source": [
    "## Including Fees in transaction configuration\n",
    "In this example we demonstrate the configuration of transaction types that take fees into consideration. We have included an example of adding a non-capitalised fee (it is not considered in the cost basis of the resultant holding so we have to create a carry movement to account for it)."
   ]
  },
  {
   "cell_type": "markdown",
   "id": "f38ef2d5",
   "metadata": {},
   "source": [
    "## Imports\n"
   ]
  },
  {
   "cell_type": "code",
   "execution_count": null,
   "id": "b135c470",
   "metadata": {},
   "outputs": [],
   "source": [
    "\n",
    "# Updated for LUSID SDK v2\n",
    "from finbourne_sdk_utils import ApiClientFactory\n",
    "from finbourne_sdk_utils.pandas_utils.lusid_pandas import lusid_response_to_data_frame\n",
    "\n",
    "from finbourne_portfolio import models as portfolio_models\n",
    "from finbourne_portfolio.api import (\n",
    "    TransactionPortfoliosApi,\n",
    "    PropertyDefinitionsApi,\n",
    "    TransactionConfigurationApi,\n",
    "    ApplicationMetadataApi,\n",
    "    RelationshipsApi\n",
    ")\n",
    "from finbourne_instrument.api import InstrumentsApi\n",
    "\n",
    "import pandas as pd\n",
    "import json\n",
    "import logging\n",
    "\n",
    "# Use secrets file or environment variables\n",
    "# api_factory = ApiClientFactory(config_path=\"secrets.json\")  # Uncomment to use secrets file\n",
    "api_factory = ApiClientFactory()\n",
    "\n",
    "# Build API clients\n",
    "instruments_api = api_factory.build(InstrumentsApi)\n",
    "transaction_portfolios_api = api_factory.build(TransactionPortfoliosApi)\n",
    "property_definition_api = api_factory.build(PropertyDefinitionsApi)\n",
    "transaction_config_api = api_factory.build(TransactionConfigurationApi)\n",
    "relationships_api = api_factory.build(RelationshipsApi)\n",
    "application_metadata_api = api_factory.build(ApplicationMetadataApi)\n",
    "\n",
    "# Get and display LUSID version\n",
    "api_status = pd.DataFrame(application_metadata_api.get_lusid_versions().to_dict())\n",
    "display(api_status)\n"
   ]
  },
  {
   "cell_type": "code",
   "execution_count": null,
   "id": "1283d95e",
   "metadata": {},
   "outputs": [],
   "source": [
    "instruments_api = api_factory.build(InstrumentsApi)\n",
    "transaction_portfolios_api = api_factory.build(TransactionPortfoliosApi)\n",
    "property_definition_api = api_factory.build(PropertyDefinitionsApi)\n",
    "transaction_config_api = api_factory.build(TransactionConfigurationApi)"
   ]
  },
  {
   "cell_type": "code",
   "execution_count": null,
   "id": "63586b05",
   "metadata": {},
   "outputs": [],
   "source": [
    "#setting up variables\n",
    "\n",
    "scope = \"FeesTesting\"\n",
    "code = \"FeesTestV1\"\n",
    "print(f\"'{scope}/{code}' scope and code created.\")\n",
    "\n",
    "custom_transaction_type = \"TestType\"\n",
    "custom_side = \"TestSide\""
   ]
  },
  {
   "cell_type": "markdown",
   "id": "a4a731af",
   "metadata": {},
   "source": [
    "## 1. Create instruments, portfolio and transactions to work with\n",
    "\n",
    "### 1.0 Load Transaction Data"
   ]
  },
  {
   "cell_type": "code",
   "execution_count": null,
   "id": "156c6ce2",
   "metadata": {},
   "outputs": [],
   "source": [
    "#reading transactions file with a funds in transaction and a buy of BP\n",
    "#using example source file\n",
    "\n",
    "transactions_df = pd.read_csv(\"wildcards-commission-txns.csv\", keep_default_na = False)\n",
    "transactions_df.index += 1\n",
    "display(transactions_df)"
   ]
  },
  {
   "cell_type": "markdown",
   "id": "0766145b",
   "metadata": {},
   "source": [
    "### 1.1 Load Instruments\n",
    "\n",
    "#### Loaded from df file"
   ]
  },
  {
   "cell_type": "code",
   "execution_count": null,
   "id": "46356860",
   "metadata": {},
   "outputs": [],
   "source": [
    "\n",
    "# Updated for LUSID SDK v2\n",
    "from finbourne_sdk_utils import ApiClientFactory\n",
    "from finbourne_sdk_utils.pandas_utils.lusid_pandas import lusid_response_to_data_frame\n",
    "\n",
    "from finbourne_portfolio import models as portfolio_models\n",
    "from finbourne_portfolio.api import (\n",
    "    TransactionPortfoliosApi,\n",
    "    PropertyDefinitionsApi,\n",
    "    TransactionConfigurationApi,\n",
    "    ApplicationMetadataApi,\n",
    "    RelationshipsApi\n",
    ")\n",
    "from finbourne_instrument.api import InstrumentsApi\n",
    "\n",
    "import pandas as pd\n",
    "import json\n",
    "import logging\n",
    "\n",
    "# Use secrets file or environment variables\n",
    "# api_factory = ApiClientFactory(config_path=\"secrets.json\")  # Uncomment to use secrets file\n",
    "api_factory = ApiClientFactory()\n",
    "\n",
    "# Build API clients\n",
    "instruments_api = api_factory.build(InstrumentsApi)\n",
    "transaction_portfolios_api = api_factory.build(TransactionPortfoliosApi)\n",
    "property_definition_api = api_factory.build(PropertyDefinitionsApi)\n",
    "transaction_config_api = api_factory.build(TransactionConfigurationApi)\n",
    "relationships_api = api_factory.build(RelationshipsApi)\n",
    "application_metadata_api = api_factory.build(ApplicationMetadataApi)\n",
    "\n",
    "# Get and display LUSID version\n",
    "api_status = pd.DataFrame(application_metadata_api.get_lusid_versions().to_dict())\n",
    "display(api_status)\n"
   ]
  },
  {
   "cell_type": "markdown",
   "id": "d62134d0",
   "metadata": {},
   "source": [
    "### 1.2 Create Portfolio"
   ]
  },
  {
   "cell_type": "code",
   "execution_count": null,
   "id": "710ea9d8",
   "metadata": {},
   "outputs": [],
   "source": [
    "\n",
    "portfolio_definition=portfolio_models.CreateTransactionPortfolioRequest(\n",
    "    display_name=\"Fees Test Portfolio\",\n",
    "    code = code,\n",
    "    base_currency = \"GBP\",\n",
    "    created=\"2020-01-01T00:00:00Z\",\n",
    "    instrument_scopes = [f\"{scope}{code}\"],\n",
    ")\n",
    "\n",
    "try:\n",
    "    create_portfolio_response=transaction_portfolios_api.create_portfolio(\n",
    "        scope = scope,\n",
    "        create_transaction_portfolio_request = portfolio_definition\n",
    "    )\n",
    "    print(f\"Portfolio with display name '{create_portfolio_response.display_name}' created effective {str(create_portfolio_response.created)}\")\n",
    "except ApiException as e:\n",
    "    if json.loads(e.body)[\"name\"] == \"PortfolioWithIdAlreadyExists\":\n",
    "            logging.info(json.loads(e.body)[\"title\"])"
   ]
  },
  {
   "cell_type": "markdown",
   "id": "a6c1d014",
   "metadata": {},
   "source": [
    "## 2. Create Transaction Properties for fees\n",
    "\n",
    "#### In this case we use derived properties"
   ]
  },
  {
   "cell_type": "code",
   "execution_count": null,
   "id": "a0d570db",
   "metadata": {},
   "outputs": [],
   "source": [
    "\n",
    "property_definition = portfolio_models.CreateDerivedPropertyDefinitionRequest(\n",
    "    domain=\"Transaction\",  \n",
    "    scope=\"Fees\",  \n",
    "    code=\"NonCapFee1\",  \n",
    "    data_type_id=portfolio_models.ResourceId(\n",
    "        scope=\"system\",\n",
    "        code=\"number\"  \n",
    "    ),\n",
    "    derivation_formula=\"round(Units * TransactionPrice.Price * 0.1, 0.1)\",\n",
    "    display_name=\"Non-Cap Fee\",  \n",
    "    description=\"Derived property for non-capitalised fees\",  \n",
    "    is_filterable=False\n",
    ")\n",
    "\n",
    "response = property_definition_api.create_derived_property_definition(\n",
    "    create_derived_property_definition_request=property_definition\n",
    ")\n",
    "print(f\"Property definition created with key: {response.key}\")"
   ]
  },
  {
   "cell_type": "markdown",
   "id": "b8860747",
   "metadata": {},
   "source": [
    "## 3. Create a Fees Side that uses the fee property\n",
    "\n",
    "#### (Once functional, this can leverage the wildcard capability to access multiple fees in one side)"
   ]
  },
  {
   "cell_type": "code",
   "execution_count": null,
   "id": "a4cf104f",
   "metadata": {},
   "outputs": [],
   "source": [
    "#creating a side for non-capitalised fees\n",
    "\n",
    "side_definition = portfolio_models.SideDefinitionRequest(\n",
    "    security = \"Txn:LusidInstrumentId\",\n",
    "    currency = \"Txn:TradeCurrency\",\n",
    "    rate = \"Txn:TradeToPortfolioRate\",\n",
    "    units = \"Transaction/Fees/NonCapFee1\",\n",
    "    amount = \"Transaction/Fees/NonCapFee1\",\n",
    ")\n",
    "\n",
    "response = transaction_config_api.set_side_definition(\n",
    "    # Specify the name of the custom side\n",
    "    side = custom_side,\n",
    "    side_definition_request = side_definition\n",
    ")\n",
    "display(response)"
   ]
  },
  {
   "cell_type": "markdown",
   "id": "57dacd6f",
   "metadata": {},
   "source": [
    "## 4. Create a \"Buy\"-style transaction type that includes a carry movement with the Fee Side"
   ]
  },
  {
   "cell_type": "code",
   "execution_count": null,
   "id": "7bec5feb",
   "metadata": {},
   "outputs": [],
   "source": [
    "#Create new transaction type\n",
    "\n",
    "transaction_type_definition = portfolio_models.TransactionTypeRequest(\n",
    "    aliases = [\n",
    "        portfolio_models.TransactionTypeAlias(          \n",
    "            type = custom_transaction_type,\n",
    "            description = \"Purchase with cash balance reduced by Non-Cap Fees\",\n",
    "            transaction_class = \"Fees\",\n",
    "            transaction_roles = \"LongLonger\"\n",
    "        )\n",
    "    ],\n",
    "    movements = [\n",
    "        # Replicate the first movement from the built-in Buy transaction type\n",
    "        portfolio_models.TransactionTypeMovement(\n",
    "            movement_types = \"StockMovement\",\n",
    "            side = \"Side1\",\n",
    "            direction = 1,\n",
    "            name = \"Increase instrument holding by the number of units in the standard way\",\n",
    "        ),\n",
    "        # Replicate the second movement from the built-in Buy transaction type\n",
    "        portfolio_models.TransactionTypeMovement(\n",
    "            movement_types = \"CashCommitment\",\n",
    "            side = \"Side2\",\n",
    "            direction = -1,\n",
    "            name = \"Decrease cash balance by total cost in the standard way\",\n",
    "        ),\n",
    "        # Create a third movement that uses the custom side\n",
    "        portfolio_models.TransactionTypeMovement(            \n",
    "            movement_types = \"Carry\",\n",
    "            direction = -1,\n",
    "            side = custom_side,\n",
    "            name = \"Additionally decrease cash balance by commission\",\n",
    "            properties = {},\n",
    "        ),\n",
    "    ],\n",
    "    #Update total consideration calculation to include non ca[pitalised fees\n",
    "    calculations = [\n",
    "         portfolio_models.TransactionTypeCalculation(\n",
    "              type = \"DeriveTotalConsideration\",\n",
    "              formula = \"Txn:GrossConsideration + Properties[Transaction/Fees/NonCapFee1]\"\n",
    "         )\n",
    "    ]\n",
    ")\n",
    "\n",
    "\n",
    "response = transaction_config_api.set_transaction_type(\n",
    "    source = f\"{code}\",\n",
    "    type = custom_transaction_type,\n",
    "    transaction_type_request = transaction_type_definition\n",
    ")\n",
    "display(transaction_config_api.get_transaction_type(source = f\"{code}\", type = custom_transaction_type))\n"
   ]
  },
  {
   "cell_type": "markdown",
   "id": "2261363d",
   "metadata": {},
   "source": [
    "## 5. Create Transactions"
   ]
  },
  {
   "cell_type": "code",
   "execution_count": null,
   "id": "0c5223d2",
   "metadata": {},
   "outputs": [],
   "source": [
    "#Create transactions with this new type using the transactions data from previously \n",
    "\n",
    "transactions = []\n",
    "\n",
    "for index, txn in transactions_df.iterrows():\n",
    "\n",
    "    if txn[\"asset\"] == \"Cash\":\n",
    "        identifiers = {\"Instrument/default/Currency\": txn[\"currency\"]}\n",
    "        transaction_type = \"FundsIn\"\n",
    "    else:\n",
    "        identifiers = {\"Instrument/default/Figi\": txn[\"figi\"]}\n",
    "        transaction_type = custom_transaction_type\n",
    "\n",
    "    transactions.append(\n",
    "        portfolio_models.TransactionRequest(\n",
    "            transaction_id = str(txn[\"txn_id\"]),\n",
    "            type = transaction_type,\n",
    "            instrument_identifiers = identifiers,\n",
    "            transaction_date = txn[\"trade_date\"],\n",
    "            settlement_date = txn[\"settle_date\"],\n",
    "            units = txn[\"units\"],\n",
    "            transaction_price = portfolio_models.TransactionPrice(price = txn[\"price\"], type=\"Price\"),\n",
    "            total_consideration = portfolio_models.CurrencyAndAmount(\n",
    "                amount = 0,\n",
    "                currency = txn[\"currency\"],\n",
    "            ),\n",
    "            properties = {},\n",
    "            source = f\"{code}\"\n",
    "        )\n",
    "    )\n",
    "\n",
    "upsert_transactions_response = transaction_portfolios_api.upsert_transactions(\n",
    "    scope = scope, \n",
    "    code = code, \n",
    "    transaction_request = transactions\n",
    ")\n",
    "\n",
    "display(f\"Transactions loaded at {str(upsert_transactions_response.version.as_at_date)}\")\n",
    "display(upsert_transactions_response)"
   ]
  },
  {
   "cell_type": "markdown",
   "id": "ab507837",
   "metadata": {},
   "source": [
    "## Look at resultant holdings"
   ]
  },
  {
   "cell_type": "code",
   "execution_count": null,
   "id": "61729bb5",
   "metadata": {},
   "outputs": [],
   "source": [
    "\n",
    "# Updated for LUSID SDK v2\n",
    "from finbourne_sdk_utils import ApiClientFactory\n",
    "from finbourne_sdk_utils.pandas_utils.lusid_pandas import lusid_response_to_data_frame\n",
    "\n",
    "from finbourne_portfolio import models as portfolio_models\n",
    "from finbourne_portfolio.api import (\n",
    "    TransactionPortfoliosApi,\n",
    "    PropertyDefinitionsApi,\n",
    "    TransactionConfigurationApi,\n",
    "    ApplicationMetadataApi,\n",
    "    RelationshipsApi\n",
    ")\n",
    "from finbourne_instrument.api import InstrumentsApi\n",
    "\n",
    "import pandas as pd\n",
    "import json\n",
    "import logging\n",
    "\n",
    "# Use secrets file or environment variables\n",
    "# api_factory = ApiClientFactory(config_path=\"secrets.json\")  # Uncomment to use secrets file\n",
    "api_factory = ApiClientFactory()\n",
    "\n",
    "# Build API clients\n",
    "instruments_api = api_factory.build(InstrumentsApi)\n",
    "transaction_portfolios_api = api_factory.build(TransactionPortfoliosApi)\n",
    "property_definition_api = api_factory.build(PropertyDefinitionsApi)\n",
    "transaction_config_api = api_factory.build(TransactionConfigurationApi)\n",
    "relationships_api = api_factory.build(RelationshipsApi)\n",
    "application_metadata_api = api_factory.build(ApplicationMetadataApi)\n",
    "\n",
    "# Get and display LUSID version\n",
    "api_status = pd.DataFrame(application_metadata_api.get_lusid_versions().to_dict())\n",
    "display(api_status)\n"
   ]
  },
  {
   "cell_type": "code",
   "execution_count": null,
   "id": "0175cbe4",
   "metadata": {},
   "outputs": [],
   "source": []
  }
 ],
 "metadata": {
  "kernelspec": {
   "display_name": ".venv",
   "language": "python",
   "name": "python3"
  },
  "language_info": {
   "codemirror_mode": {
    "name": "ipython",
    "version": 3
   },
   "file_extension": ".py",
   "mimetype": "text/x-python",
   "name": "python",
   "nbconvert_exporter": "python",
   "pygments_lexer": "ipython3",
   "version": "3.13.2"
  }
 },
 "nbformat": 4,
 "nbformat_minor": 5
}
